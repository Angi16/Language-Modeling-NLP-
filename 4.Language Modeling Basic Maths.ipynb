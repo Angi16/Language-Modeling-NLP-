{
 "cells": [
  {
   "cell_type": "markdown",
   "metadata": {},
   "source": [
    "# <font color='#5f078c'>Language Modeling Basic Maths</font>\n",
    "\n",
    "____________________________\n",
    "\n",
    "\n",
    ">![](img/1.png)\n",
    ">>![](img/2.png)\n",
    "_______________________\n",
    ">![](img/3.png)\n",
    "________________________\n",
    ">![](img/4.png)\n",
    "________________________\n",
    ">![](img/5.png)\n",
    "________________________\n",
    ">![](img/6.png)\n",
    "____________________\n",
    ">![](img/7.png)\n",
    "____________________\n",
    ">![](img/8.png)\n",
    "________________\n",
    ">![](img/9.png)\n",
    "___________________________\n",
    ">![](img/10.png)\n",
    "_________________________\n",
    ">![](img/11.png)\n",
    "____________________________\n",
    ">![](img/12.png)\n",
    "_______________________\n",
    ">![](img/13.png)\n",
    "_________________________\n",
    ">![](img/14.png)\n",
    "___________________\n",
    ">![](img/15.png)\n",
    "___________________________\n",
    "\n",
    ">![](img/16.png)\n",
    "________________________________\n",
    ">![](img/17.png)\n",
    "________________________________\n",
    ">![](img/18.png)\n",
    "_________________________________\n",
    ">![](img/19.png)\n",
    "____________________________________\n",
    ">![](img/20.png)\n",
    "_______________________________\n",
    ">![](img/21.png)"
   ]
  }
 ],
 "metadata": {
  "kernelspec": {
   "display_name": "Python 3",
   "language": "python",
   "name": "python3"
  },
  "language_info": {
   "codemirror_mode": {
    "name": "ipython",
    "version": 3
   },
   "file_extension": ".py",
   "mimetype": "text/x-python",
   "name": "python",
   "nbconvert_exporter": "python",
   "pygments_lexer": "ipython3",
   "version": "3.6.5rc1"
  }
 },
 "nbformat": 4,
 "nbformat_minor": 2
}
